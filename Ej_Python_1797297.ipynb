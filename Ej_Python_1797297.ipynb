{
  "nbformat": 4,
  "nbformat_minor": 0,
  "metadata": {
    "colab": {
      "name": "Ej_Python_1797297.ipynb",
      "provenance": [],
      "collapsed_sections": [
        "ObKSa0WzHeOa",
        "kXU6H8AIHtMX",
        "L5G--bl9H4sz",
        "vXaRke78H-Bh",
        "s1kg22W2IJax",
        "iE8AH2C7IXn1",
        "MAiv4dPZIazM",
        "uryDVAmJIhlE",
        "Qxvo8IWeIlwW"
      ],
      "authorship_tag": "ABX9TyMNsX2DPQq9+hb55ewgypSE",
      "include_colab_link": true
    },
    "kernelspec": {
      "name": "python3",
      "display_name": "Python 3"
    },
    "language_info": {
      "name": "python"
    }
  },
  "cells": [
    {
      "cell_type": "markdown",
      "metadata": {
        "id": "view-in-github",
        "colab_type": "text"
      },
      "source": [
        "<a href=\"https://colab.research.google.com/github/YaelGarciaPartida/MineriaDeDatos/blob/main/Ej_Python_1797297.ipynb\" target=\"_parent\"><img src=\"https://colab.research.google.com/assets/colab-badge.svg\" alt=\"Open In Colab\"/></a>"
      ]
    },
    {
      "cell_type": "markdown",
      "metadata": {
        "id": "ObKSa0WzHeOa"
      },
      "source": [
        "#Ejercicio 1"
      ]
    },
    {
      "cell_type": "code",
      "metadata": {
        "id": "EP6MUbTmVxXU"
      },
      "source": [
        "##Ejercicio 1\n",
        "a= \"Yael Alejandro Garcia Partida\"\n",
        "b= 1797927\n",
        "print(a,b)"
      ],
      "execution_count": null,
      "outputs": []
    },
    {
      "cell_type": "markdown",
      "metadata": {
        "id": "kXU6H8AIHtMX"
      },
      "source": [
        "#Ejemplos parte 1\n"
      ]
    },
    {
      "cell_type": "code",
      "metadata": {
        "colab": {
          "base_uri": "https://localhost:8080/"
        },
        "id": "SmF3YIZ7gsbv",
        "outputId": "15e9f130-9b78-4f4a-9b7e-e1894a94ea2c"
      },
      "source": [
        "a=10\n",
        "b=54\n",
        "c=a+b**2\n",
        "print(a,b,c)"
      ],
      "execution_count": null,
      "outputs": [
        {
          "output_type": "stream",
          "text": [
            "10 54 2926\n"
          ],
          "name": "stdout"
        }
      ]
    },
    {
      "cell_type": "code",
      "metadata": {
        "colab": {
          "base_uri": "https://localhost:8080/"
        },
        "id": "_jbdd2UlhJbw",
        "outputId": "fde45f05-c0c2-4911-d793-fd203fac3321"
      },
      "source": [
        "##input del usuario\n",
        "a1= int(input(\"Introduce un numero: \"))\n",
        "b1= int(input(\"Introduce otro numero:\"))\n",
        "print (\"Primer numero: \",a1)\n",
        "print(\"segundo numero: \",b1)\n",
        "\n"
      ],
      "execution_count": null,
      "outputs": [
        {
          "output_type": "stream",
          "text": [
            "Introduce un numero: 10\n",
            "Introduce otro numero:20\n",
            "Primer numero:  10\n",
            "segundo numero:  20\n"
          ],
          "name": "stdout"
        }
      ]
    },
    {
      "cell_type": "markdown",
      "metadata": {
        "id": "L5G--bl9H4sz"
      },
      "source": [
        "#Ejercicio 2"
      ]
    },
    {
      "cell_type": "code",
      "metadata": {
        "colab": {
          "base_uri": "https://localhost:8080/"
        },
        "id": "RcsrpQI8iXnU",
        "outputId": "667cff16-434c-4458-f778-9fe62f64a19d"
      },
      "source": [
        "##EJERCICIO 2\n",
        "a1= int(input(\"Introduce un numero: \"))\n",
        "b1= int(input(\"Introduce otro numero:\"))\n",
        "print (\"La suma es : \",a1+b1)\n",
        "print (\"La resta es: \",a1-b1)\n",
        "print (\"La multiplicacion es : \",a1*b1)\n",
        "print (\"La division es: \",a1/b1)\n",
        "print (\"El exponente es: \",a1**b1)"
      ],
      "execution_count": null,
      "outputs": [
        {
          "output_type": "stream",
          "text": [
            "Introduce un numero: 2\n",
            "Introduce otro numero:2\n",
            "La suma es :  4\n",
            "La resta es:  0\n",
            "La multiplicacion es :  4\n",
            "La division es:  1.0\n",
            "El exponente es:  4\n"
          ],
          "name": "stdout"
        }
      ]
    },
    {
      "cell_type": "markdown",
      "metadata": {
        "id": "vXaRke78H-Bh"
      },
      "source": [
        "#Ejemplos parte 2"
      ]
    },
    {
      "cell_type": "code",
      "metadata": {
        "colab": {
          "base_uri": "https://localhost:8080/"
        },
        "id": "aS2l6iL4jwUd",
        "outputId": "5e3c46ee-4cda-4d00-fbb6-01f68501502e"
      },
      "source": [
        "##loop de while\n",
        "i=1\n",
        "while i<=10:\n",
        "  print (i)\n",
        "  i=i+1\n",
        "\n",
        "#i=+1"
      ],
      "execution_count": null,
      "outputs": [
        {
          "output_type": "stream",
          "text": [
            "1\n",
            "2\n",
            "3\n",
            "4\n",
            "5\n",
            "6\n",
            "7\n",
            "8\n",
            "9\n",
            "10\n"
          ],
          "name": "stdout"
        }
      ]
    },
    {
      "cell_type": "code",
      "metadata": {
        "colab": {
          "base_uri": "https://localhost:8080/"
        },
        "id": "xpMEtOBHkhPL",
        "outputId": "58cc6479-f7d7-49c8-f344-19f7e9b4d135"
      },
      "source": [
        "##función de range\n",
        "print (\"range(10) --> \", list(range(10)))\n",
        "print (\"range(0,20) --> \", list(range(0,20)))\n",
        "print (\"range(10,20) --> \", list(range(10,20)))\n",
        "print (\"range(0,20,2) --> \", list(range(0,20,2)))\n",
        "print (\"range(-10,-20,2) --> \", list(range(-10,-20,2)))\n",
        "print (\"range(-10,-20,-2) --> \", list(range(-10,-20,-2)))"
      ],
      "execution_count": null,
      "outputs": [
        {
          "output_type": "stream",
          "text": [
            "range(10) -->  [0, 1, 2, 3, 4, 5, 6, 7, 8, 9]\n",
            "range(0,20) -->  [0, 1, 2, 3, 4, 5, 6, 7, 8, 9, 10, 11, 12, 13, 14, 15, 16, 17, 18, 19]\n",
            "range(10,20) -->  [10, 11, 12, 13, 14, 15, 16, 17, 18, 19]\n",
            "range(0,20,2) -->  [0, 2, 4, 6, 8, 10, 12, 14, 16, 18]\n",
            "range(-10,-20,2) -->  []\n",
            "range(-10,-20,-2) -->  [-10, -12, -14, -16, -18]\n"
          ],
          "name": "stdout"
        }
      ]
    },
    {
      "cell_type": "code",
      "metadata": {
        "colab": {
          "base_uri": "https://localhost:8080/"
        },
        "id": "DpIWG0uXlBhp",
        "outputId": "6b05011b-504d-4e6e-cec2-99d8a03df924"
      },
      "source": [
        "##Range en loop de for\n",
        "for i in range(0,10):\n",
        "    print (i)"
      ],
      "execution_count": null,
      "outputs": [
        {
          "output_type": "stream",
          "text": [
            "0\n",
            "1\n",
            "2\n",
            "3\n",
            "4\n",
            "5\n",
            "6\n",
            "7\n",
            "8\n",
            "9\n"
          ],
          "name": "stdout"
        }
      ]
    },
    {
      "cell_type": "code",
      "metadata": {
        "colab": {
          "base_uri": "https://localhost:8080/"
        },
        "id": "72Qs7-uOlKnc",
        "outputId": "6abfceec-09df-490f-8dd9-068ff029de0e"
      },
      "source": [
        "for i in range(1,11):\n",
        "    print (5,\" * \", i , \" = \", i * 5)"
      ],
      "execution_count": null,
      "outputs": [
        {
          "output_type": "stream",
          "text": [
            "5  *  1  =  5\n",
            "5  *  2  =  10\n",
            "5  *  3  =  15\n",
            "5  *  4  =  20\n",
            "5  *  5  =  25\n",
            "5  *  6  =  30\n",
            "5  *  7  =  35\n",
            "5  *  8  =  40\n",
            "5  *  9  =  45\n",
            "5  *  10  =  50\n"
          ],
          "name": "stdout"
        }
      ]
    },
    {
      "cell_type": "markdown",
      "metadata": {
        "id": "s1kg22W2IJax"
      },
      "source": [
        "#Ejercicio 3"
      ]
    },
    {
      "cell_type": "code",
      "metadata": {
        "id": "7KtnREWYlPqx",
        "colab": {
          "base_uri": "https://localhost:8080/"
        },
        "outputId": "80aa02ee-827c-489a-d581-963ba07c6810"
      },
      "source": [
        "##Ejercicio 3\n",
        "i=0\n",
        "lista=[]\n",
        "while i<10:\n",
        "    numero= int(input(\"Ingrese un numero multiplo de 3: \")) \n",
        "    if numero%3 == 0:\n",
        "        lista.append(numero)\n",
        "        i=i+1\n",
        "    else :print(\"No es multiplo de 3\")\n",
        "\n",
        "print(\"los numeros ingresados fueron: \",lista)\n",
        "\n",
        "sumatoria=0\n",
        "for num in lista: \n",
        "    sumatoria += num\n",
        "\n",
        "print(\"la suma de los numeros es: \",sumatoria)"
      ],
      "execution_count": 27,
      "outputs": [
        {
          "output_type": "stream",
          "text": [
            "Ingrese un numero multiplo de 3: 2\n",
            "No es multiplo de 3\n",
            "Ingrese un numero multiplo de 3: 3\n",
            "Ingrese un numero multiplo de 3: 6\n",
            "Ingrese un numero multiplo de 3: 9\n",
            "Ingrese un numero multiplo de 3: 12\n",
            "Ingrese un numero multiplo de 3: 15\n",
            "Ingrese un numero multiplo de 3: 18\n",
            "Ingrese un numero multiplo de 3: 24\n",
            "Ingrese un numero multiplo de 3: 21\n",
            "Ingrese un numero multiplo de 3: 27\n",
            "Ingrese un numero multiplo de 3: 30\n",
            "los numeros ingresados fueron:  [3, 6, 9, 12, 15, 18, 24, 21, 27, 30]\n",
            "la suma de los numeros es:  165\n"
          ],
          "name": "stdout"
        }
      ]
    },
    {
      "cell_type": "markdown",
      "metadata": {
        "id": "NKc6vtEvINoU"
      },
      "source": [
        "#Ejemplo parte 3"
      ]
    },
    {
      "cell_type": "code",
      "metadata": {
        "colab": {
          "base_uri": "https://localhost:8080/"
        },
        "id": "ZFKpASSEoo0M",
        "outputId": "94b88d91-c494-4d80-839e-b0dad1604bd4"
      },
      "source": [
        "\n",
        "a = int(input(\"Introduce primer número: \"))\n",
        "b = int(input(\"Introduce segundo número: \"))\n",
        "if  a > b: \n",
        "    print (a,\" > \",b)\n",
        "else:\n",
        "    print (a,\" < \",b)"
      ],
      "execution_count": null,
      "outputs": [
        {
          "output_type": "stream",
          "text": [
            "Introduce primer número: 32\n",
            "Introduce segundo número: 56\n",
            "32  <  56\n"
          ],
          "name": "stdout"
        }
      ]
    },
    {
      "cell_type": "markdown",
      "metadata": {
        "id": "iE8AH2C7IXn1"
      },
      "source": [
        "#Ejercicio 4"
      ]
    },
    {
      "cell_type": "code",
      "metadata": {
        "colab": {
          "base_uri": "https://localhost:8080/"
        },
        "id": "V37OIymtscs1",
        "outputId": "0cee13bf-2923-4122-c345-8ee71247abaa"
      },
      "source": [
        "##Ejercicio 4 parte 1\n",
        "a = int(input(\"Introduce número: \"))\n",
        "if a % 2 == 0:\n",
        "    print(\"El número\", a, \"es par.\")\n",
        "else:\n",
        "    print(\"El número\", a, \"es impar.\")"
      ],
      "execution_count": 21,
      "outputs": [
        {
          "output_type": "stream",
          "text": [
            "Introduce número: 5\n",
            "El número 5 es impar.\n"
          ],
          "name": "stdout"
        }
      ]
    },
    {
      "cell_type": "code",
      "metadata": {
        "colab": {
          "base_uri": "https://localhost:8080/"
        },
        "id": "yE2nGinv0XY4",
        "outputId": "23e25e14-108d-4284-d09f-f9c0f116d998"
      },
      "source": [
        "##Ejercicio 4 parte 2\n",
        "numero= int(input(\"¿Qué número quieres saber si es primo? \"))\n",
        "valor= range(2,numero)\n",
        "contador = 0\n",
        "for n in valor:\n",
        "  if numero % n == 0:\n",
        "    contador +=1\n",
        "    print(\"divisor:\", n)\n",
        "\n",
        "if contador > 0 :\n",
        "  print(\"El número no es primo\" )\n",
        "else:\n",
        "  print(\"El nÚmero es primo\")\n",
        "  ##https://unipython.com/ejemplo-numeros-primos/\n"
      ],
      "execution_count": 26,
      "outputs": [
        {
          "output_type": "stream",
          "text": [
            "¿Qué número quieres saber si es primo? 8\n",
            "divisor: 2\n",
            "divisor: 4\n",
            "El número no es primo\n"
          ],
          "name": "stdout"
        }
      ]
    },
    {
      "cell_type": "markdown",
      "metadata": {
        "id": "MAiv4dPZIazM"
      },
      "source": [
        "#Ejemplo parte 4"
      ]
    },
    {
      "cell_type": "code",
      "metadata": {
        "id": "u9PUbz0dtMSU",
        "colab": {
          "base_uri": "https://localhost:8080/"
        },
        "outputId": "479c568b-9530-4ab8-8df3-056db239aabf"
      },
      "source": [
        "##Uso de funciones en python\n",
        "def Suma(a,b):\n",
        "    c=a+b\n",
        "    return c\n",
        "\n",
        "print (\"Suma(10,20) -->\", Suma(10,20))\n",
        "print (\"Suma(20,50) -->\", Suma(20,-50)) \n",
        "print (\"Suma(80,200) -->\", Suma(80,20.7))\n"
      ],
      "execution_count": 25,
      "outputs": [
        {
          "output_type": "stream",
          "text": [
            "Suma(10,20) --> 30\n",
            "Suma(20,50) --> -30\n",
            "Suma(80,200) --> 100.7\n"
          ],
          "name": "stdout"
        }
      ]
    },
    {
      "cell_type": "markdown",
      "metadata": {
        "id": "uryDVAmJIhlE"
      },
      "source": [
        "#Ejercicio 5"
      ]
    },
    {
      "cell_type": "code",
      "metadata": {
        "id": "CiqkgTyIJpGP"
      },
      "source": [
        "##Ejercio 5\n",
        "class funciones:\n",
        "    def suma(a,b):\n",
        "        return a + b\n",
        "    def resta(a,b):\n",
        "        return a-b\n",
        "    def multi(a,b):\n",
        "        return a * b\n",
        "    def división(a,b):\n",
        "        while b>0:\n",
        "            return a/b\n",
        "        else: b= int(input(\"Ingrese un valor mayor a 0: \"))\n",
        "    def exp(a,b):\n",
        "        return a ** b"
      ],
      "execution_count": null,
      "outputs": []
    },
    {
      "cell_type": "code",
      "metadata": {
        "id": "3nUfGOhm8FEP"
      },
      "source": [
        "##Ejercicio 5\n",
        "import funciones\n",
        "\n",
        "print(\"Ingrese 2 números: \")\n",
        "a=int(input(\"Primer número: \"))\n",
        "b=int(input(\"Segundo número: \"))\n",
        "\n",
        "print(\"Elige la operación.\")\n",
        "\n",
        "print(\"1.Suma\")\n",
        "print(\"2.Resta\")\n",
        "print(\"3.Multiplicación\")\n",
        "print(\"4.División\")\n",
        "print(\"5.Exponentes\")\n",
        "\n",
        "while True:\n",
        "    opc = input(\"Ingresa la opcion (1|2|3|4|5): \")\n",
        "    if opc in ('1','2','3','4','5'):\n",
        "        num1 = float(input(\"Ingresa el primer numero: \"))\n",
        "        num2 = float(input(\"Ingresa el segundo numero: \"))\n",
        "\n",
        "        if opc =='1':\n",
        "            print(num1, \"+\", num2, \"=\", funciones.suma(num1,num2))\n",
        "\n",
        "        elif opc == '2':\n",
        "            print(num1, \"-\", num2, \"=\", funciones.resta(num1, num2))\n",
        "        \n",
        "        elif opc == '3':\n",
        "            print(num1, \"*\", num2, \"=\", funciones.multi(num1, num2))\n",
        "\n",
        "        elif opc == '4':\n",
        "            print(num1, \"/\", num2, \"=\", funciones.div(num1, num2))\n",
        "        elif opc == '5':\n",
        "            print(num1, \"**\", num2, \"=\", funciones.exp(num1,num2))\n",
        "        \n",
        "        else: print(\"opcion inválida\")\n",
        "\n"
      ],
      "execution_count": null,
      "outputs": []
    },
    {
      "cell_type": "code",
      "metadata": {
        "id": "wN2PLRpjJlYO"
      },
      "source": [
        ""
      ],
      "execution_count": null,
      "outputs": []
    },
    {
      "cell_type": "markdown",
      "metadata": {
        "id": "Qxvo8IWeIlwW"
      },
      "source": [
        "#Ejemplos parte 5"
      ]
    },
    {
      "cell_type": "code",
      "metadata": {
        "colab": {
          "base_uri": "https://localhost:8080/"
        },
        "id": "6wEQ3utfEZXm",
        "outputId": "7579e432-283b-4c3e-d600-652869c04c5f"
      },
      "source": [
        "##Funciones matemáticas en la librería de math en python\n",
        "import math as m\n",
        "\n",
        "print (\"Función exponencial --> \", m.exp(-200))  \n",
        "print (\"Log --> \", m.log(100,2)) # Log\n",
        "print (\"Log  --> \", m.log(100,10))# Log\n",
        "print (\"Log 10 --> \", m.log10(100)) # Log 10\n",
        "print (\"Coseno --> \", m.cos(30))    # cos\n",
        "print (\"Seno --> \", m.sin(30))    # sin\n",
        "print (\"Tangente --> \", m.tan(30))    # tan\n",
        "print (\"Raiz cuadrada --> \", m.sqrt(324)) #Raiz\n",
        "print (\"Valor techo --> \", m.ceil(89.9)) #Valor techo\n",
        "print (\"Valor piso --> \", m.floor(89.9)) #Valor piso"
      ],
      "execution_count": 28,
      "outputs": [
        {
          "output_type": "stream",
          "text": [
            "Función exponencial -->  1.3838965267367376e-87\n",
            "Log -->  6.643856189774725\n",
            "Log  -->  2.0\n",
            "Log 10 -->  2.0\n",
            "Coseno -->  0.15425144988758405\n",
            "Seno -->  -0.9880316240928618\n",
            "Tangente -->  -6.405331196646276\n",
            "Raiz cuadrada -->  18.0\n",
            "Valor techo -->  90\n",
            "Valor piso -->  89\n"
          ],
          "name": "stdout"
        }
      ]
    },
    {
      "cell_type": "code",
      "metadata": {
        "colab": {
          "base_uri": "https://localhost:8080/"
        },
        "id": "-xxck3P8Ehf5",
        "outputId": "0786ee2a-981b-43a4-8228-055431b035ea"
      },
      "source": [
        "##Como utilizar variables de string como listas para buscar elementos:\n",
        "\n",
        "var1 = 'Hola mundo!'\n",
        "var2 = \"Programas de python\"\n",
        " \n",
        "print (\"var1 --> \", var1)\n",
        "print (\"var2 --> \",var2)\n",
        "print (\"var1[0] --> \", var1[0])\n",
        "print (\"var2[1:5] --> \", var2[1:5])\n",
        "print (\"var2[:-5] --> \", var2[:-5])\n"
      ],
      "execution_count": 29,
      "outputs": [
        {
          "output_type": "stream",
          "text": [
            "var1 -->  Hola mundo!\n",
            "var2 -->  Programas de python\n",
            "var1[0] -->  H\n",
            "var2[1:5] -->  rogr\n",
            "var2[:-5] -->  Programas de p\n"
          ],
          "name": "stdout"
        }
      ]
    },
    {
      "cell_type": "code",
      "metadata": {
        "colab": {
          "base_uri": "https://localhost:8080/"
        },
        "id": "SRKHVTDkEokA",
        "outputId": "5afc9064-3279-413e-9ac3-1cc12b528076"
      },
      "source": [
        "var1 = 'Hola mundo!'\n",
        "var2 = \"Programas de python\"\n",
        "\n",
        "print (\"var1 --> \", var1)\n",
        "print (\"var2 --> \",var2)\n",
        "\n",
        "print (\"\\nTamaño de var1 --> : \", len(var1))\n",
        "print (\"Tamaño de var2 --> : \", len(var2))\n",
        "\n",
        "print (\"\\nUppercase para var1 --> : \", var1.upper())\n",
        "print (\"Upper case para var2 --> : \", var2.upper())\n",
        "\n",
        "print (\"\\nLower case para var1 --> : \", var1.lower())\n",
        "print (\"Lower case para var2 --> : \", var2.lower())"
      ],
      "execution_count": 30,
      "outputs": [
        {
          "output_type": "stream",
          "text": [
            "var1 -->  Hola mundo!\n",
            "var2 -->  Programas de python\n",
            "\n",
            "Tamaño de var1 --> :  11\n",
            "Tamaño de var2 --> :  19\n",
            "\n",
            "Uppercase para var1 --> :  HOLA MUNDO!\n",
            "Upper case para var2 --> :  PROGRAMAS DE PYTHON\n",
            "\n",
            "Lower case para var1 --> :  hola mundo!\n",
            "Lower case para var2 --> :  programas de python\n"
          ],
          "name": "stdout"
        }
      ]
    },
    {
      "cell_type": "code",
      "metadata": {
        "colab": {
          "base_uri": "https://localhost:8080/"
        },
        "id": "ocoGZAxnEr_3",
        "outputId": "60561ff3-5914-4748-e466-fa411d1762ac"
      },
      "source": [
        "##Con input del usuario, revisar como introducir valores de numeros, letras y flotantes dentro de un print:\n",
        "name=input(\"Introduce tu nombre: \")\n",
        "age=int(input(\"Introduce tu edad: \"))\n",
        "price=float(input(\"Precio de tu item: \"))\n",
        "s=\"Tu nombre es %s, edad es %d y el precio de tu item es %f\" %(name.upper(),age,price)\n",
        "print (s)"
      ],
      "execution_count": 31,
      "outputs": [
        {
          "output_type": "stream",
          "text": [
            "Introduce tu nombre: Yael\n",
            "Introduce tu edad: 21\n",
            "Precio de tu item: 50\n",
            "Tu nombre es YAEL, edad es 21 y el precio de tu item es 50.000000\n"
          ],
          "name": "stdout"
        }
      ]
    },
    {
      "cell_type": "code",
      "metadata": {
        "colab": {
          "base_uri": "https://localhost:8080/",
          "height": 282
        },
        "id": "J3fP7weZE2SE",
        "outputId": "bc2fb47f-75b6-43a9-a1d4-1b7b9f367504"
      },
      "source": [
        "##Introducción para el manejo de errores en Python\n",
        "for i in range(-5,6):\n",
        "    print (\"100/\",i,\" --> \", 100/i)"
      ],
      "execution_count": 32,
      "outputs": [
        {
          "output_type": "stream",
          "text": [
            "100/ -5  -->  -20.0\n",
            "100/ -4  -->  -25.0\n",
            "100/ -3  -->  -33.333333333333336\n",
            "100/ -2  -->  -50.0\n",
            "100/ -1  -->  -100.0\n"
          ],
          "name": "stdout"
        },
        {
          "output_type": "error",
          "ename": "ZeroDivisionError",
          "evalue": "ignored",
          "traceback": [
            "\u001b[0;31m---------------------------------------------------------------------------\u001b[0m",
            "\u001b[0;31mZeroDivisionError\u001b[0m                         Traceback (most recent call last)",
            "\u001b[0;32m<ipython-input-32-efe3c58a1af9>\u001b[0m in \u001b[0;36m<module>\u001b[0;34m()\u001b[0m\n\u001b[1;32m      1\u001b[0m \u001b[0;31m##Introducción para el manejo de errores en Python\u001b[0m\u001b[0;34m\u001b[0m\u001b[0;34m\u001b[0m\u001b[0;34m\u001b[0m\u001b[0m\n\u001b[1;32m      2\u001b[0m \u001b[0;32mfor\u001b[0m \u001b[0mi\u001b[0m \u001b[0;32min\u001b[0m \u001b[0mrange\u001b[0m\u001b[0;34m(\u001b[0m\u001b[0;34m-\u001b[0m\u001b[0;36m5\u001b[0m\u001b[0;34m,\u001b[0m\u001b[0;36m6\u001b[0m\u001b[0;34m)\u001b[0m\u001b[0;34m:\u001b[0m\u001b[0;34m\u001b[0m\u001b[0;34m\u001b[0m\u001b[0m\n\u001b[0;32m----> 3\u001b[0;31m     \u001b[0mprint\u001b[0m \u001b[0;34m(\u001b[0m\u001b[0;34m\"100/\"\u001b[0m\u001b[0;34m,\u001b[0m\u001b[0mi\u001b[0m\u001b[0;34m,\u001b[0m\u001b[0;34m\" --> \"\u001b[0m\u001b[0;34m,\u001b[0m \u001b[0;36m100\u001b[0m\u001b[0;34m/\u001b[0m\u001b[0mi\u001b[0m\u001b[0;34m)\u001b[0m\u001b[0;34m\u001b[0m\u001b[0;34m\u001b[0m\u001b[0m\n\u001b[0m",
            "\u001b[0;31mZeroDivisionError\u001b[0m: division by zero"
          ]
        }
      ]
    },
    {
      "cell_type": "code",
      "metadata": {
        "colab": {
          "base_uri": "https://localhost:8080/"
        },
        "id": "rEnfnw90FOnh",
        "outputId": "cf10662a-a318-4339-a7c8-a788b2ea9fe0"
      },
      "source": [
        "for i in range(-5,6):\n",
        "    try:\n",
        "        print (\"100/\",i,\" --> \", 100/i)\n",
        "    except:\n",
        "        print (\"error\")"
      ],
      "execution_count": 33,
      "outputs": [
        {
          "output_type": "stream",
          "text": [
            "100/ -5  -->  -20.0\n",
            "100/ -4  -->  -25.0\n",
            "100/ -3  -->  -33.333333333333336\n",
            "100/ -2  -->  -50.0\n",
            "100/ -1  -->  -100.0\n",
            "error\n",
            "100/ 1  -->  100.0\n",
            "100/ 2  -->  50.0\n",
            "100/ 3  -->  33.333333333333336\n",
            "100/ 4  -->  25.0\n",
            "100/ 5  -->  20.0\n"
          ],
          "name": "stdout"
        }
      ]
    },
    {
      "cell_type": "code",
      "metadata": {
        "colab": {
          "base_uri": "https://localhost:8080/",
          "height": 231
        },
        "id": "b62QdIPIFUVR",
        "outputId": "4ae77d6b-8edb-4629-dec9-4bcf98e1fb07"
      },
      "source": [
        "archivo=input(\"Introduce el nombre del archivo: \")\n",
        "fp=open(archivo)\n",
        "fp.close()\n",
        "print (\"Terminado\")"
      ],
      "execution_count": 34,
      "outputs": [
        {
          "output_type": "stream",
          "text": [
            "Introduce el nombre del archivo: tarea1\n"
          ],
          "name": "stdout"
        },
        {
          "output_type": "error",
          "ename": "FileNotFoundError",
          "evalue": "ignored",
          "traceback": [
            "\u001b[0;31m---------------------------------------------------------------------------\u001b[0m",
            "\u001b[0;31mFileNotFoundError\u001b[0m                         Traceback (most recent call last)",
            "\u001b[0;32m<ipython-input-34-0516b617e37f>\u001b[0m in \u001b[0;36m<module>\u001b[0;34m()\u001b[0m\n\u001b[1;32m      1\u001b[0m \u001b[0marchivo\u001b[0m\u001b[0;34m=\u001b[0m\u001b[0minput\u001b[0m\u001b[0;34m(\u001b[0m\u001b[0;34m\"Introduce el nombre del archivo: \"\u001b[0m\u001b[0;34m)\u001b[0m\u001b[0;34m\u001b[0m\u001b[0;34m\u001b[0m\u001b[0m\n\u001b[0;32m----> 2\u001b[0;31m \u001b[0mfp\u001b[0m\u001b[0;34m=\u001b[0m\u001b[0mopen\u001b[0m\u001b[0;34m(\u001b[0m\u001b[0marchivo\u001b[0m\u001b[0;34m)\u001b[0m\u001b[0;34m\u001b[0m\u001b[0;34m\u001b[0m\u001b[0m\n\u001b[0m\u001b[1;32m      3\u001b[0m \u001b[0mfp\u001b[0m\u001b[0;34m.\u001b[0m\u001b[0mclose\u001b[0m\u001b[0;34m(\u001b[0m\u001b[0;34m)\u001b[0m\u001b[0;34m\u001b[0m\u001b[0;34m\u001b[0m\u001b[0m\n\u001b[1;32m      4\u001b[0m \u001b[0mprint\u001b[0m \u001b[0;34m(\u001b[0m\u001b[0;34m\"Terminado\"\u001b[0m\u001b[0;34m)\u001b[0m\u001b[0;34m\u001b[0m\u001b[0;34m\u001b[0m\u001b[0m\n",
            "\u001b[0;31mFileNotFoundError\u001b[0m: [Errno 2] No such file or directory: 'tarea1'"
          ]
        }
      ]
    },
    {
      "cell_type": "code",
      "metadata": {
        "colab": {
          "base_uri": "https://localhost:8080/"
        },
        "id": "iXd91AaYFcdY",
        "outputId": "dbe2470e-3bbc-4b32-f9a8-3a7036d49f27"
      },
      "source": [
        "rchivo=input(\"Introduce el nombre del archivo: \")\n",
        "try:\n",
        "    fp=open(archivo)\n",
        "    fp.close()\n",
        "except:\n",
        "    print (\"Error !! Archivo no encontrado\")\n",
        "\n",
        "print (\"Terminado\")"
      ],
      "execution_count": 35,
      "outputs": [
        {
          "output_type": "stream",
          "text": [
            "Introduce el nombre del archivo: tarea1\n",
            "Error !! Archivo no encontrado\n",
            "Terminado\n"
          ],
          "name": "stdout"
        }
      ]
    },
    {
      "cell_type": "code",
      "metadata": {
        "colab": {
          "base_uri": "https://localhost:8080/"
        },
        "id": "shsfXsBIFlWX",
        "outputId": "1ec31089-918c-43c5-d467-a79967391a98"
      },
      "source": [
        "\n",
        "lista1 = [1,2,3,4,5]\n",
        "\n",
        "for i in range(8):\n",
        "    try:\n",
        "        print (i,\" --> \", lista1[i])\n",
        "    except:\n",
        "        print (\"error\")\n",
        "\n",
        "    \n",
        "len(lista1)"
      ],
      "execution_count": 36,
      "outputs": [
        {
          "output_type": "stream",
          "text": [
            "0  -->  1\n",
            "1  -->  2\n",
            "2  -->  3\n",
            "3  -->  4\n",
            "4  -->  5\n",
            "error\n",
            "error\n",
            "error\n"
          ],
          "name": "stdout"
        },
        {
          "output_type": "execute_result",
          "data": {
            "text/plain": [
              "5"
            ]
          },
          "metadata": {},
          "execution_count": 36
        }
      ]
    },
    {
      "cell_type": "code",
      "metadata": {
        "colab": {
          "base_uri": "https://localhost:8080/"
        },
        "id": "i_gQ0sKyFs9F",
        "outputId": "8e90db80-d637-4545-88aa-dd29904f6d83"
      },
      "source": [
        "lista1 = [1, 2, 3, 4, 5, 6, 7]\n",
        "\n",
        "for i in range(len(lista1)):\n",
        "    try:\n",
        "        print(i, \"-->\", lista1[i])\n",
        "    except:\n",
        "        print(\"Error\")"
      ],
      "execution_count": 37,
      "outputs": [
        {
          "output_type": "stream",
          "text": [
            "0 --> 1\n",
            "1 --> 2\n",
            "2 --> 3\n",
            "3 --> 4\n",
            "4 --> 5\n",
            "5 --> 6\n",
            "6 --> 7\n"
          ],
          "name": "stdout"
        }
      ]
    },
    {
      "cell_type": "code",
      "metadata": {
        "colab": {
          "base_uri": "https://localhost:8080/"
        },
        "id": "DTB3Zwx_FvtL",
        "outputId": "02f2998e-2a1b-4dee-d660-650c5e4c3615"
      },
      "source": [
        "##Creación de numeros aleatorios en Python\n",
        "import random as r\n",
        "print (r.random())\n",
        "print (r.randint(1, 100))\n",
        "print (r.uniform(1, 100))\n",
        "\n",
        "A=[1, 2, 3, 4, 5, 6, 7, 8, 9, 10]\n",
        "print (r.sample(A, 4))"
      ],
      "execution_count": 38,
      "outputs": [
        {
          "output_type": "stream",
          "text": [
            "0.2533279490821363\n",
            "63\n",
            "1.6810454209682546\n",
            "[5, 6, 3, 7]\n"
          ],
          "name": "stdout"
        }
      ]
    },
    {
      "cell_type": "code",
      "metadata": {
        "id": "hq96shK9Gj9i"
      },
      "source": [
        ""
      ],
      "execution_count": null,
      "outputs": []
    }
  ]
}